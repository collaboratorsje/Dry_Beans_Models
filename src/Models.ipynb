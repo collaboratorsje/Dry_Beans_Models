{
 "cells": [
  {
   "cell_type": "markdown",
   "metadata": {},
   "source": [
    "# Dry Beans Models Project Notebook (Team 14)\n",
    "##### Follow the steps in the README.md file to create and activate the virtual environment before running notebook cells"
   ]
  },
  {
   "cell_type": "markdown",
   "metadata": {},
   "source": [
    "# Imports (Some imports may happen in later cells)"
   ]
  },
  {
   "cell_type": "code",
   "execution_count": 3,
   "metadata": {},
   "outputs": [],
   "source": [
    "import numpy as np\n",
    "import pandas as pd\n",
    "from matplotlib.pyplot import subplots\n",
    "import sklearn.model_selection as skm\n",
    "from ISLP import load_data, confusion_table\n",
    "from ISLP.models import ModelSpec as MS"
   ]
  },
  {
   "cell_type": "code",
   "execution_count": 4,
   "metadata": {},
   "outputs": [],
   "source": [
    "from sklearn.tree import (DecisionTreeClassifier as DTC, # Decision Tree for Classification\n",
    "                          DecisionTreeRegressor as DTR, # Decision Tree for Regression\n",
    "                          plot_tree, # Package for plotting trees\n",
    "                          export_text)\n",
    "\n",
    "from sklearn.ensemble import (RandomForestClassifier as RFC, # Random Forest for Classification\n",
    "                              RandomForestRegressor as RFR, # Random Forest for Regression\n",
    "                              GradientBoostingClassifier as GBC, # Boosting for Classification\n",
    "                              GradientBoostingRegressor as GBR) # Boosting for Regression\n",
    "\n",
    "from sklearn.metrics import (accuracy_score, # Method for finding Accuracy\n",
    "                             log_loss) # Method for finding the loss (log scale)"
   ]
  },
  {
   "cell_type": "markdown",
   "metadata": {},
   "source": [
    "# Data pre-processing"
   ]
  },
  {
   "cell_type": "code",
   "execution_count": 5,
   "metadata": {},
   "outputs": [],
   "source": [
    "# This cell converts our raw data file from .xlsx to .csv using pandas\n",
    "\n",
    "# Load the xlsx file into a DataFrame\n",
    "df = pd.read_excel('../raw_data/Dry_Bean_Dataset.xlsx')\n",
    "\n",
    "# Save the DataFrame to a csv file\n",
    "df.to_csv('../raw_data/Dry_Bean_Dataset.csv', index=False)"
   ]
  }
 ],
 "metadata": {
  "kernelspec": {
   "display_name": "Python 3",
   "language": "python",
   "name": "python3"
  },
  "language_info": {
   "codemirror_mode": {
    "name": "ipython",
    "version": 3
   },
   "file_extension": ".py",
   "mimetype": "text/x-python",
   "name": "python",
   "nbconvert_exporter": "python",
   "pygments_lexer": "ipython3",
   "version": "3.12.2"
  }
 },
 "nbformat": 4,
 "nbformat_minor": 2
}
